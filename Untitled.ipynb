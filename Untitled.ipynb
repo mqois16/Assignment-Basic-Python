{
 "cells": [
  {
   "cell_type": "markdown",
   "id": "adapted-latin",
   "metadata": {},
   "source": [
    "# Buku Kontak"
   ]
  },
  {
   "cell_type": "code",
   "execution_count": null,
   "id": "surrounded-nurse",
   "metadata": {},
   "outputs": [],
   "source": [
    "kontak = [{'nama':'Tomo','no':'086276378'},{'nama':'Tono','no':'0823328838'}]\n",
    "\n",
    "print('\\nSelamat Datang!\\n')\n",
    "\n",
    "\n",
    "def daftarKontak():\n",
    "    print(\"Daftar Kontak\")\n",
    "    for i in kontak:\n",
    "        print('Nama : {}'.format(i['nama']))\n",
    "        print('No Telepon : {}'.format(i['no']))\n",
    "        \n",
    "def kontakBaru():\n",
    "    nama = input(\"Nama : \")\n",
    "    no = input(\"No Telepon : \")\n",
    "    baru = {'nama':nama,'no':no}\n",
    "    return kontak.append(baru)\n",
    "    \n",
    "\n",
    "while True:\n",
    "    print(\"\\n--Menu--\")\n",
    "    print(\"1. Daftar Kontak\")\n",
    "    print(\"2. Tambah Kontak\")\n",
    "    print(\"3. Keluar\")\n",
    "    inp = int(input(\"Pilih Menu : \"))\n",
    "    if inp == 1:\n",
    "        daftarKontak()\n",
    "    elif inp == 2:\n",
    "        kontakBaru()\n",
    "        print(\"Kontak berhasil ditambahkan\\n\")\n",
    "    elif inp == 3:\n",
    "        print(\"\\nProgram selesai, sampai jumpa!\")\n",
    "        break\n",
    "    else:\n",
    "        print(\"\\nMenu tidak tersedia\")\n",
    "        "
   ]
  },
  {
   "source": [
    "# Soal Bonus"
   ],
   "cell_type": "markdown",
   "metadata": {}
  },
  {
   "source": [
    "#Function operasi kalkulator\n",
    "\n",
    "def penjumlahan(a,b):\n",
    "    c=a+b\n",
    "    print(\"Hasil penjumlahan dari {} + {} = {}\".format(a,b,c))\n",
    "\n",
    "def pengurangan(a,b):\n",
    "    c=a-b\n",
    "    print(\"Hasil pengurangan dari {} - {} = {}\".format(a,b,c))\n",
    "\n",
    "def perkalian(a,b):\n",
    "    c=a*b\n",
    "    print(\"Hasil perkalian dari {} X {} = {}\".format(a,b,c))\n",
    "\n",
    "def pembagian(a,b):\n",
    "    c=a/b\n",
    "    print(\"Hasil pembagian dari {} : {} = {}\".format(a,b,c))\n",
    "\n",
    "#function kalkulator'\n",
    "def kalkulator():\n",
    "    print(\"________________________\")\n",
    "    print(\"  ==== KALKULATOR ====  \")\n",
    "\n",
    "\n",
    "    while True:\n",
    "        print(\"Silakan Pilih Operasi Matematika :\")\n",
    "        print(\"1. Penjumlahan\")\n",
    "        print(\"2. Pengurangan\")\n",
    "        print(\"3. Perkalian\")\n",
    "        print(\"4. Pembagian\")\n",
    "        print(\"0. Kembali ke Menu Sebelumnya\")\n",
    "        kol = int(input(\"Pilih : \"))\n",
    "        if kol == 1:\n",
    "            print(\"\\nOperasi Penjumlahan\")\n",
    "            x = int(input(\"Masukkan bilangan pertama : \"))\n",
    "            y = int(input(\"Masukkan bilangan kedua   : \"))\n",
    "            penjumlahan(x,y)\n",
    "        elif kol == 2:\n",
    "            print(\"\\nOperasi Pengurangan\")\n",
    "            x = int(input(\"Masukkan bilangan pertama : \"))\n",
    "            y = int(input(\"Masukkan bilangan kedua   : \"))\n",
    "            pengurangan(x,y)\n",
    "        elif kol == 3:\n",
    "            print(\"\\nOperasi Perkalian\")\n",
    "            x = int(input(\"Masukkan bilangan pertama : \"))\n",
    "            y = int(input(\"Masukkan bilangan kedua   : \"))\n",
    "            perkalian(x,y)\n",
    "        elif kol == 4:\n",
    "            print(\"\\nOperasi Pembagian\")\n",
    "            x = int(input(\"Masukkan bilangan pertama : \"))\n",
    "            y = int(input(\"Masukkan bilangan kedua   : \"))\n",
    "            pembagian(x,y)\n",
    "        elif kol == 0:\n",
    "            print(\"\\nMenutup Kalkulator\")\n",
    "            print(\"________________________\\n\")\n",
    "            continue\n",
    "        else:\n",
    "            print(\"Maaf, Menu {} Tidak Tersedia !\".format(kal))\n",
    "\n",
    "\n",
    "\n",
    "\n",
    "kalkulator()\n"
   ],
   "cell_type": "code",
   "metadata": {
    "tags": []
   },
   "execution_count": 2,
   "outputs": [
    {
     "output_type": "stream",
     "name": "stdout",
     "text": [
      "________________________\n",
      "  ==== KALKULATOR ====  \n",
      "Silakan Pilih Operasi Matematika :\n",
      "1. Penjumlahan\n",
      "2. Pengurangan\n",
      "3. Perkalian\n",
      "4. Pembagian\n",
      "0. Kembali ke Menu Sebelumnya\n",
      "\n",
      "Operasi Perkalian\n",
      "Hasil perkalian dari 3 X 3 = 9\n",
      "Silakan Pilih Operasi Matematika :\n",
      "1. Penjumlahan\n",
      "2. Pengurangan\n",
      "3. Perkalian\n",
      "4. Pembagian\n",
      "0. Kembali ke Menu Sebelumnya\n",
      "\n",
      "Operasi Pembagian\n",
      "Hasil pembagian dari 6 : 8 = 0.75\n",
      "Silakan Pilih Operasi Matematika :\n",
      "1. Penjumlahan\n",
      "2. Pengurangan\n",
      "3. Perkalian\n",
      "4. Pembagian\n",
      "0. Kembali ke Menu Sebelumnya\n",
      "\n",
      "Kembali Ke Menu Utama\n",
      "________________________\n",
      "\n"
     ]
    }
   ]
  },
  {
   "source": [
    "def ais(nama=\"kamu\"):\n",
    "    print(\"Hai {} bisakah kau ceritakan padaku? ( 0. untuk membatalkan )\\n\".format(nama))\n",
    "    while True:\n",
    "        \n",
    "        cerita = input(\"Masukkan kisahmu: \")\n",
    "        if \"sedih\" in cerita or \"galau\" in cerita or \"nangis\" in cerita:\n",
    "            print(\"Berbuatlah sesukamu untuk menghilangkan kesedihanmu asalkan itu benar\")\n",
    "            print(\"\\nHai {} bisakah kau cerita lagi padaku? ( 0. untuk membatalkan )\\n\".format(nama))\n",
    "        elif \"kecewa\" in cerita or \"gagal\" in cerita or \"menyesal\" in cerita:\n",
    "            print(\"Tetaplah putus asa, dan jangan semangat!\")\n",
    "            print(\"\\nHai {} bisakah kau cerita lagi padaku? ( 0. untuk membatalkan )\\n\".format(nama))\n",
    "        elif \"sengang\" in cerita or \"gembira\" in cerita or \"berhasil\" in cerita:\n",
    "            print(\"Aku senang mendengar {} bahagia\".format(nama))\n",
    "            print(\"\\nHai {} bisakah kau cerita lagi padaku? ( 0. untuk membatalkan )\\n\".format(nama))\n",
    "        elif cerita == \"0\":\n",
    "            break\n",
    "        else:\n",
    "            print(\"Maaf aku kurang paham maksudmu\")\n",
    "            print(\"\\nHai {} bisakah kau cerita lagi padaku? ( 0. untuk membatalkan )\\n\".format(nama))\n",
    "\n",
    "ais(\"Joko\")"
   ],
   "cell_type": "code",
   "metadata": {},
   "execution_count": 10,
   "outputs": [
    {
     "output_type": "stream",
     "name": "stdout",
     "text": [
      "Hai Joko bisakah kau ceritakan padaku? ( 0. untuk membatalkan )\n\n"
     ]
    }
   ]
  },
  {
   "cell_type": "code",
   "execution_count": 5,
   "metadata": {},
   "outputs": [
    {
     "output_type": "stream",
     "name": "stdout",
     "text": [
      "Hai, aku AIs, assisten virtual pertamamu\n",
      "Siapa namamu?\n",
      "\n",
      "Salam kenal joy\n",
      "Apakah ada yang bisa aku bantu?\n",
      "\n",
      "Silakan pilih bantuan yang bisa aku berikan:\n",
      "1. Menghitung dengan kalkulator\n",
      "2. Menemani curhatmu\n",
      "3. Keluar\n",
      "\n",
      "________________________\n",
      "  ==== KALKULATOR ====  \n",
      "Silakan Pilih Operasi Matematika :\n",
      "1. Penjumlahan\n",
      "2. Pengurangan\n",
      "3. Perkalian\n",
      "4. Pembagian\n",
      "0. Kembali ke Menu Sebelumnya\n"
     ]
    },
    {
     "output_type": "error",
     "ename": "NameError",
     "evalue": "name 'kal' is not defined",
     "traceback": [
      "\u001b[1;31m---------------------------------------------------------------------------\u001b[0m",
      "\u001b[1;31mNameError\u001b[0m                                 Traceback (most recent call last)",
      "\u001b[1;32m<ipython-input-5-1b66f42d0b6b>\u001b[0m in \u001b[0;36m<module>\u001b[1;34m\u001b[0m\n\u001b[0;32m     15\u001b[0m \u001b[1;33m\u001b[0m\u001b[0m\n\u001b[0;32m     16\u001b[0m     \u001b[1;32mif\u001b[0m \u001b[0mpil\u001b[0m \u001b[1;33m==\u001b[0m \u001b[1;36m1\u001b[0m\u001b[1;33m:\u001b[0m\u001b[1;33m\u001b[0m\u001b[1;33m\u001b[0m\u001b[0m\n\u001b[1;32m---> 17\u001b[1;33m         \u001b[0mkalkulator\u001b[0m\u001b[1;33m(\u001b[0m\u001b[1;33m)\u001b[0m\u001b[1;33m\u001b[0m\u001b[1;33m\u001b[0m\u001b[0m\n\u001b[0m\u001b[0;32m     18\u001b[0m     \u001b[1;32melif\u001b[0m \u001b[0mpil\u001b[0m \u001b[1;33m==\u001b[0m \u001b[1;36m3\u001b[0m\u001b[1;33m:\u001b[0m\u001b[1;33m\u001b[0m\u001b[1;33m\u001b[0m\u001b[0m\n\u001b[0;32m     19\u001b[0m         \u001b[1;32mbreak\u001b[0m\u001b[1;33m\u001b[0m\u001b[1;33m\u001b[0m\u001b[0m\n",
      "\u001b[1;32m<ipython-input-2-32a6f48d2ec7>\u001b[0m in \u001b[0;36mkalkulator\u001b[1;34m()\u001b[0m\n\u001b[0;32m     56\u001b[0m             \u001b[1;32mbreak\u001b[0m\u001b[1;33m\u001b[0m\u001b[1;33m\u001b[0m\u001b[0m\n\u001b[0;32m     57\u001b[0m         \u001b[1;32melse\u001b[0m\u001b[1;33m:\u001b[0m\u001b[1;33m\u001b[0m\u001b[1;33m\u001b[0m\u001b[0m\n\u001b[1;32m---> 58\u001b[1;33m             \u001b[0mprint\u001b[0m\u001b[1;33m(\u001b[0m\u001b[1;34m\"Maaf, Menu {} Tidak Tersedia !\"\u001b[0m\u001b[1;33m.\u001b[0m\u001b[0mformat\u001b[0m\u001b[1;33m(\u001b[0m\u001b[0mkal\u001b[0m\u001b[1;33m)\u001b[0m\u001b[1;33m)\u001b[0m\u001b[1;33m\u001b[0m\u001b[1;33m\u001b[0m\u001b[0m\n\u001b[0m\u001b[0;32m     59\u001b[0m \u001b[1;33m\u001b[0m\u001b[0m\n\u001b[0;32m     60\u001b[0m \u001b[1;33m\u001b[0m\u001b[0m\n",
      "\u001b[1;31mNameError\u001b[0m: name 'kal' is not defined"
     ]
    }
   ],
   "source": [
    "#Menu Utama\n",
    "print(\"Hai, aku AIs, assisten virtual pertamamu\")\n",
    "print(\"Siapa namamu?\")\n",
    "nama = input(\"\\nMasukkan nama: \")\n",
    "print(\"\\nSalam kenal {}\".format(nama))\n",
    "print(\"Apakah ada yang bisa aku bantu?\")\n",
    "\n",
    "while True:\n",
    "    print(\"\\nSilakan pilih bantuan yang bisa aku berikan:\")\n",
    "    print(\"1. Menghitung dengan kalkulator\")\n",
    "    print(\"2. Menemani curhatmu\")\n",
    "    print(\"3. Keluar\\n\")\n",
    "\n",
    "    pil = int(input(\"Pilih nomor: \"))\n",
    "\n",
    "    if pil == 1:\n",
    "        kalkulator()\n",
    "    elif pil == 3:\n",
    "        break\n"
   ]
  },
  {
   "source": [],
   "cell_type": "code",
   "metadata": {},
   "execution_count": null,
   "outputs": []
  }
 ],
 "metadata": {
  "kernelspec": {
   "display_name": "Python 3",
   "language": "python",
   "name": "python3"
  },
  "language_info": {
   "codemirror_mode": {
    "name": "ipython",
    "version": 3
   },
   "file_extension": ".py",
   "mimetype": "text/x-python",
   "name": "python",
   "nbconvert_exporter": "python",
   "pygments_lexer": "ipython3",
   "version": "3.9.1-final"
  }
 },
 "nbformat": 4,
 "nbformat_minor": 5
}