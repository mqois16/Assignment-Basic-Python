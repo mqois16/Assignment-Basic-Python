{
 "cells": [
  {
   "cell_type": "markdown",
   "id": "adapted-latin",
   "metadata": {},
   "source": [
    "# Buku Kontak"
   ]
  },
  {
   "cell_type": "code",
   "execution_count": 1,
   "id": "surrounded-nurse",
   "metadata": {},
   "outputs": [
    {
     "name": "stdout",
     "output_type": "stream",
     "text": [
      "\n",
      "Selamat Datang!\n",
      "\n",
      "\n",
      "--Menu--\n",
      "1. Daftar Kontak\n",
      "2. Tambah Kontak\n",
      "3. Keluar\n"
     ]
    },
    {
     "name": "stdin",
     "output_type": "stream",
     "text": [
      "Pilih Menu :  1\n"
     ]
    },
    {
     "name": "stdout",
     "output_type": "stream",
     "text": [
      "Daftar Kontak\n",
      "Nama : Tomo\n",
      "No Telepon : 086276378\n",
      "Nama : Tono\n",
      "No Telepon : 0823328838\n",
      "\n",
      "--Menu--\n",
      "1. Daftar Kontak\n",
      "2. Tambah Kontak\n",
      "3. Keluar\n"
     ]
    },
    {
     "name": "stdin",
     "output_type": "stream",
     "text": [
      "Pilih Menu :  2\n",
      "Nama :  Kano\n",
      "No Telepon :  03627937198\n"
     ]
    },
    {
     "name": "stdout",
     "output_type": "stream",
     "text": [
      "Kontak berhasil ditambahkan\n",
      "\n",
      "\n",
      "--Menu--\n",
      "1. Daftar Kontak\n",
      "2. Tambah Kontak\n",
      "3. Keluar\n"
     ]
    },
    {
     "name": "stdin",
     "output_type": "stream",
     "text": [
      "Pilih Menu :  3\n"
     ]
    },
    {
     "name": "stdout",
     "output_type": "stream",
     "text": [
      "\n",
      "Program selesai, sampai jumpa!\n"
     ]
    }
   ],
   "source": [
    "kontak = [{'nama':'Tomo','no':'086276378'},{'nama':'Tono','no':'0823328838'}]\n",
    "\n",
    "print('\\nSelamat Datang!\\n')\n",
    "\n",
    "\n",
    "def daftarKontak():\n",
    "    print(\"Daftar Kontak\")\n",
    "    for i in kontak:\n",
    "        print('Nama : {}'.format(i['nama']))\n",
    "        print('No Telepon : {}'.format(i['no']))\n",
    "        \n",
    "def kontakBaru():\n",
    "    nama = input(\"Nama : \")\n",
    "    no = input(\"No Telepon : \")\n",
    "    baru = {'nama':nama,'no':no}\n",
    "    return kontak.append(baru)\n",
    "    \n",
    "\n",
    "while True:\n",
    "    print(\"\\n--Menu--\")\n",
    "    print(\"1. Daftar Kontak\")\n",
    "    print(\"2. Tambah Kontak\")\n",
    "    print(\"3. Keluar\")\n",
    "    inp = int(input(\"Pilih Menu : \"))\n",
    "    if inp == 1:\n",
    "        daftarKontak()\n",
    "    elif inp == 2:\n",
    "        kontakBaru()\n",
    "        print(\"Kontak berhasil ditambahkan\\n\")\n",
    "    elif inp == 3:\n",
    "        print(\"\\nProgram selesai, sampai jumpa!\")\n",
    "        break\n",
    "    else:\n",
    "        print(\"\\nMenu tidak tersedia\")\n",
    "        "
   ]
  },
  {
   "cell_type": "markdown",
   "id": "underlying-router",
   "metadata": {},
   "source": [
    "# Soal Bonus"
   ]
  },
  {
   "cell_type": "code",
   "execution_count": 3,
   "id": "surprising-brunei",
   "metadata": {},
   "outputs": [],
   "source": [
    "def penjumlahan(a,b):\n",
    "    c=a+b\n",
    "    printsil penjumlahan dari {} + {} = {}\".format(a,b,c)\n",
    "    \n",
    "    a=2\n",
    "    b=1\n",
    "    "
   ]
  },
  {
   "cell_type": "code",
   "execution_count": null,
   "id": "liable-annual",
   "metadata": {},
   "outputs": [],
   "source": []
  }
 ],
 "metadata": {
  "kernelspec": {
   "display_name": "Python 3",
   "language": "python",
   "name": "python3"
  },
  "language_info": {
   "codemirror_mode": {
    "name": "ipython",
    "version": 3
   },
   "file_extension": ".py",
   "mimetype": "text/x-python",
   "name": "python",
   "nbconvert_exporter": "python",
   "pygments_lexer": "ipython3",
   "version": "3.9.1"
  }
 },
 "nbformat": 4,
 "nbformat_minor": 5
}
