{
 "cells": [
  {
   "cell_type": "markdown",
   "id": "agricultural-delight",
   "metadata": {},
   "source": [
    "# Buku Kontak"
   ]
  },
  {
   "cell_type": "code",
   "execution_count": null,
   "id": "aquatic-election",
   "metadata": {},
   "outputs": [],
   "source": [
    "kontak = [{'nama':'Tomo','no':'086276378'},{'nama':'Tono','no':'0823328838'}]\n",
    "\n",
    "print('\\nSelamat Datang!\\n')\n",
    "\n",
    "\n",
    "def daftarKontak():\n",
    "    print(\"Daftar Kontak\")\n",
    "    for i in kontak:\n",
    "        print('Nama : {}'.format(i['nama']))\n",
    "        print('No Telepon : {}'.format(i['no']))\n",
    "        \n",
    "def kontakBaru():\n",
    "    nama = input(\"Nama : \")\n",
    "    no = input(\"No Telepon : \")\n",
    "    baru = {'nama':nama,'no':no}\n",
    "    return kontak.append(baru)\n",
    "    \n",
    "\n",
    "while True:\n",
    "    print(\"\\n--Menu--\")\n",
    "    print(\"1. Daftar Kontak\")\n",
    "    print(\"2. Tambah Kontak\")\n",
    "    print(\"3. Keluar\")\n",
    "    inp = int(input(\"Pilih Menu : \"))\n",
    "    if inp == 1:\n",
    "        daftarKontak()\n",
    "    elif inp == 2:\n",
    "        kontakBaru()\n",
    "        print(\"Kontak berhasil ditambahkan\\n\")\n",
    "    elif inp == 3:\n",
    "        print(\"\\nProgram selesai, sampai jumpa!\")\n",
    "        break\n",
    "    else:\n",
    "        print(\"\\nMenu tidak tersedia\")\n",
    "        "
   ]
  },
  {
   "cell_type": "markdown",
   "id": "funky-genome",
   "metadata": {},
   "source": [
    "# Soal Bonus"
   ]
  },
  {
   "cell_type": "code",
   "execution_count": 2,
   "id": "dated-afternoon",
   "metadata": {
    "tags": []
   },
   "outputs": [
    {
     "name": "stdout",
     "output_type": "stream",
     "text": [
      "________________________\n",
      "  ==== KALKULATOR ====  \n",
      "Silakan Pilih Operasi Matematika :\n",
      "1. Penjumlahan\n",
      "2. Pengurangan\n",
      "3. Perkalian\n",
      "4. Pembagian\n",
      "0. Kembali ke Menu Sebelumnya\n"
     ]
    },
    {
     "name": "stdin",
     "output_type": "stream",
     "text": [
      "Pilih :  1\n"
     ]
    },
    {
     "name": "stdout",
     "output_type": "stream",
     "text": [
      "\n",
      "Operasi Penjumlahan\n"
     ]
    },
    {
     "name": "stdin",
     "output_type": "stream",
     "text": [
      "Masukkan bilangan pertama :  2\n",
      "Masukkan bilangan kedua   :  3\n"
     ]
    },
    {
     "name": "stdout",
     "output_type": "stream",
     "text": [
      "Hasil penjumlahan dari 2 + 3 = 5\n",
      "\n",
      "Silakan Pilih Operasi Matematika :\n",
      "1. Penjumlahan\n",
      "2. Pengurangan\n",
      "3. Perkalian\n",
      "4. Pembagian\n",
      "0. Kembali ke Menu Sebelumnya\n"
     ]
    },
    {
     "name": "stdin",
     "output_type": "stream",
     "text": [
      "Pilih :  0\n"
     ]
    },
    {
     "name": "stdout",
     "output_type": "stream",
     "text": [
      "\n",
      "Menutup Kalkulator\n",
      "________________________\n",
      "\n"
     ]
    }
   ],
   "source": [
    "#Function operasi kalkulator\n",
    "\n",
    "def penjumlahan(a,b):\n",
    "    c=a+b\n",
    "    print(\"Hasil penjumlahan dari {} + {} = {}\\n\".format(a,b,c))\n",
    "\n",
    "def pengurangan(a,b):\n",
    "    c=a-b\n",
    "    print(\"Hasil pengurangan dari {} - {} = {}\\n\".format(a,b,c))\n",
    "\n",
    "def perkalian(a,b):\n",
    "    c=a*b\n",
    "    print(\"Hasil perkalian dari {} X {} = {}\\n\".format(a,b,c))\n",
    "\n",
    "def pembagian(a,b):\n",
    "    c=a/b\n",
    "    print(\"Hasil pembagian dari {} : {} = {}\\n\".format(a,b,c))\n",
    "\n",
    "#function kalkulator'\n",
    "def kalkulator():\n",
    "    print(\"________________________\")\n",
    "    print(\"  ==== KALKULATOR ====  \")\n",
    "\n",
    "\n",
    "    while True:\n",
    "        print(\"Silakan Pilih Operasi Matematika :\")\n",
    "        print(\"1. Penjumlahan\")\n",
    "        print(\"2. Pengurangan\")\n",
    "        print(\"3. Perkalian\")\n",
    "        print(\"4. Pembagian\")\n",
    "        print(\"0. Kembali ke Menu Sebelumnya\")\n",
    "        kol = int(input(\"Pilih : \"))\n",
    "        if kol == 1:\n",
    "            print(\"\\nOperasi Penjumlahan\")\n",
    "            x = int(input(\"Masukkan bilangan pertama : \"))\n",
    "            y = int(input(\"Masukkan bilangan kedua   : \"))\n",
    "            penjumlahan(x,y)\n",
    "        elif kol == 2:\n",
    "            print(\"\\nOperasi Pengurangan\")\n",
    "            x = int(input(\"Masukkan bilangan pertama : \"))\n",
    "            y = int(input(\"Masukkan bilangan kedua   : \"))\n",
    "            pengurangan(x,y)\n",
    "        elif kol == 3:\n",
    "            print(\"\\nOperasi Perkalian\")\n",
    "            x = int(input(\"Masukkan bilangan pertama : \"))\n",
    "            y = int(input(\"Masukkan bilangan kedua   : \"))\n",
    "            perkalian(x,y)\n",
    "        elif kol == 4:\n",
    "            print(\"\\nOperasi Pembagian\")\n",
    "            x = int(input(\"Masukkan bilangan pertama : \"))\n",
    "            y = int(input(\"Masukkan bilangan kedua   : \"))\n",
    "            pembagian(x,y)\n",
    "        elif kol == 0:\n",
    "            print(\"\\nMenutup Kalkulator\")\n",
    "            print(\"________________________\\n\")\n",
    "            break\n",
    "        else:\n",
    "            print(\"Maaf, Menu {} Tidak Tersedia !\".format(kol))\n",
    "\n",
    "\n",
    "\n",
    "\n",
    "kalkulator()\n"
   ]
  },
  {
   "cell_type": "code",
   "execution_count": 1,
   "id": "equivalent-entity",
   "metadata": {},
   "outputs": [
    {
     "name": "stdout",
     "output_type": "stream",
     "text": [
      "== Curhat Dong! ==\n",
      "Hai, bisakah kau ceritakan padaku? ( 0. untuk membatalkan )\n"
     ]
    },
    {
     "name": "stdin",
     "output_type": "stream",
     "text": [
      "Masukkan kisahmu:  Bahagia\n"
     ]
    },
    {
     "name": "stdout",
     "output_type": "stream",
     "text": [
      "Maaf, aku belum paham apa yang kamu tanyakan\n",
      "\n",
      "Hai, maukah kau cerita lagi padaku? ( 0. untuk membatalkan )\n",
      "\n"
     ]
    },
    {
     "name": "stdin",
     "output_type": "stream",
     "text": [
      "Masukkan kisahmu:  bahagia\n"
     ]
    },
    {
     "name": "stdout",
     "output_type": "stream",
     "text": [
      "Aku senang mendengarmu, bahagia\n",
      "\n",
      "Hai, maukah kau cerita lagi padaku? ( 0. untuk membatalkan )\n",
      "\n"
     ]
    },
    {
     "name": "stdin",
     "output_type": "stream",
     "text": [
      "Masukkan kisahmu:  0\n"
     ]
    }
   ],
   "source": [
    "def ais():\n",
    "    print(\"== Curhat Dong! ==\")\n",
    "    print(\"Hai, bisakah kau ceritakan padaku? ( 0. untuk membatalkan )\")\n",
    "    while True:\n",
    "        \n",
    "        cerita = input(\"Masukkan kisahmu: \")\n",
    "        if \"sedih\" in cerita or \"galau\" in cerita or \"nangis\" in cerita:\n",
    "            print(\"Berbuatlah sesukamu untuk menghilangkan kesedihanmu asalkan itu benar\")\n",
    "            print(\"\\nHai, maukah kau cerita lagi padaku? ( 0. untuk membatalkan )\\n\")\n",
    "        elif \"kecewa\" in cerita or \"gagal\" in cerita or \"menyesal\" in cerita:\n",
    "            print(\"Tetaplah putus asa, dan jangan semangat!\")\n",
    "            print(\"\\nHai, maukah kau cerita lagi padaku? ( 0. untuk membatalkan )\\n\")\n",
    "        elif \"senang\" in cerita or \"gembira\" in cerita or \"berhasil\" in cerita or \"bahagia\" in cerita:\n",
    "            print(\"Aku senang mendengarmu, bahagia\")\n",
    "            print(\"\\nHai, maukah kau cerita lagi padaku? ( 0. untuk membatalkan )\\n\")\n",
    "        elif cerita == \"0\":\n",
    "            break\n",
    "        else:\n",
    "            print(\"Maaf, aku belum paham apa yang kamu tanyakan\")\n",
    "            print(\"\\nHai, maukah kau cerita lagi padaku? ( 0. untuk membatalkan )\\n\")\n",
    "\n",
    "ais()"
   ]
  },
  {
   "cell_type": "code",
   "execution_count": 3,
   "id": "adverse-leone",
   "metadata": {
    "tags": []
   },
   "outputs": [
    {
     "name": "stdout",
     "output_type": "stream",
     "text": [
      "Hai, aku AIs, assisten virtual pertamamu\n",
      "Siapa namamu?\n"
     ]
    },
    {
     "name": "stdin",
     "output_type": "stream",
     "text": [
      "\n",
      "Masukkan nama:  Alex\n"
     ]
    },
    {
     "name": "stdout",
     "output_type": "stream",
     "text": [
      "\n",
      "Salam kenal Alex\n",
      "Apakah ada yang bisa aku bantu?\n",
      "\n",
      "Hai Alex, silakan pilih bantuan yang bisa aku berikan:\n",
      "1. Menghitung dengan kalkulator\n",
      "2. Menemani curhatmu\n",
      "3. Keluar\n",
      "\n"
     ]
    },
    {
     "name": "stdin",
     "output_type": "stream",
     "text": [
      "Pilih nomor:  1\n"
     ]
    },
    {
     "name": "stdout",
     "output_type": "stream",
     "text": [
      "________________________\n",
      "  ==== KALKULATOR ====  \n",
      "Silakan Pilih Operasi Matematika :\n",
      "1. Penjumlahan\n",
      "2. Pengurangan\n",
      "3. Perkalian\n",
      "4. Pembagian\n",
      "0. Kembali ke Menu Sebelumnya\n"
     ]
    },
    {
     "name": "stdin",
     "output_type": "stream",
     "text": [
      "Pilih :  2\n"
     ]
    },
    {
     "name": "stdout",
     "output_type": "stream",
     "text": [
      "\n",
      "Operasi Pengurangan\n"
     ]
    },
    {
     "name": "stdin",
     "output_type": "stream",
     "text": [
      "Masukkan bilangan pertama :  3\n",
      "Masukkan bilangan kedua   :  4\n"
     ]
    },
    {
     "name": "stdout",
     "output_type": "stream",
     "text": [
      "Hasil pengurangan dari 3 - 4 = -1\n",
      "\n",
      "Silakan Pilih Operasi Matematika :\n",
      "1. Penjumlahan\n",
      "2. Pengurangan\n",
      "3. Perkalian\n",
      "4. Pembagian\n",
      "0. Kembali ke Menu Sebelumnya\n"
     ]
    },
    {
     "name": "stdin",
     "output_type": "stream",
     "text": [
      "Pilih :  0\n"
     ]
    },
    {
     "name": "stdout",
     "output_type": "stream",
     "text": [
      "\n",
      "Menutup Kalkulator\n",
      "________________________\n",
      "\n",
      "\n",
      "Hai Alex, silakan pilih bantuan yang bisa aku berikan:\n",
      "1. Menghitung dengan kalkulator\n",
      "2. Menemani curhatmu\n",
      "3. Keluar\n",
      "\n"
     ]
    },
    {
     "name": "stdin",
     "output_type": "stream",
     "text": [
      "Pilih nomor:  2\n"
     ]
    },
    {
     "name": "stdout",
     "output_type": "stream",
     "text": [
      "== Curhat Dong! ==\n",
      "Hai, bisakah kau ceritakan padaku? ( 0. untuk membatalkan )\n"
     ]
    },
    {
     "name": "stdin",
     "output_type": "stream",
     "text": [
      "Masukkan kisahmu:  sedih\n"
     ]
    },
    {
     "name": "stdout",
     "output_type": "stream",
     "text": [
      "Berbuatlah sesukamu untuk menghilangkan kesedihanmu asalkan itu benar\n",
      "\n",
      "Hai, maukah kau cerita lagi padaku? ( 0. untuk membatalkan )\n",
      "\n"
     ]
    },
    {
     "name": "stdin",
     "output_type": "stream",
     "text": [
      "Masukkan kisahmu:  kecewa\n"
     ]
    },
    {
     "name": "stdout",
     "output_type": "stream",
     "text": [
      "Tetaplah putus asa, dan jangan semangat!\n",
      "\n",
      "Hai, maukah kau cerita lagi padaku? ( 0. untuk membatalkan )\n",
      "\n"
     ]
    },
    {
     "name": "stdin",
     "output_type": "stream",
     "text": [
      "Masukkan kisahmu:  0\n"
     ]
    },
    {
     "name": "stdout",
     "output_type": "stream",
     "text": [
      "\n",
      "Hai Alex, silakan pilih bantuan yang bisa aku berikan:\n",
      "1. Menghitung dengan kalkulator\n",
      "2. Menemani curhatmu\n",
      "3. Keluar\n",
      "\n"
     ]
    },
    {
     "name": "stdin",
     "output_type": "stream",
     "text": [
      "Pilih nomor:  3\n"
     ]
    }
   ],
   "source": [
    "#Menu Utama\n",
    "print(\"Hai, aku AIs, assisten virtual pertamamu\")\n",
    "print(\"Siapa namamu?\")\n",
    "nama = input(\"\\nMasukkan nama: \")\n",
    "print(\"\\nSalam kenal {}\".format(nama))\n",
    "print(\"Apakah ada yang bisa aku bantu?\")\n",
    "\n",
    "while True:\n",
    "    print(\"\\nHai {}, silakan pilih bantuan yang bisa aku berikan:\".format(nama))\n",
    "    print(\"1. Menghitung dengan kalkulator\")\n",
    "    print(\"2. Menemani curhatmu\")\n",
    "    print(\"3. Keluar\\n\")\n",
    "    pil = float(input(\"Pilih nomor: \"))\n",
    "\n",
    "    if pil == 1:\n",
    "        kalkulator()\n",
    "    elif pil == 2:\n",
    "        ais()\n",
    "    elif pil == 3:\n",
    "        break\n",
    "    else:\n",
    "        print(\"Maaf, aku belum paham apa yang kamu tanyakan\")\n"
   ]
  },
  {
   "cell_type": "code",
   "execution_count": null,
   "id": "royal-insider",
   "metadata": {},
   "outputs": [],
   "source": []
  }
 ],
 "metadata": {
  "kernelspec": {
   "display_name": "Python 3",
   "language": "python",
   "name": "python3"
  },
  "language_info": {
   "codemirror_mode": {
    "name": "ipython",
    "version": 3
   },
   "file_extension": ".py",
   "mimetype": "text/x-python",
   "name": "python",
   "nbconvert_exporter": "python",
   "pygments_lexer": "ipython3",
   "version": "3.9.1"
  }
 },
 "nbformat": 4,
 "nbformat_minor": 5
}