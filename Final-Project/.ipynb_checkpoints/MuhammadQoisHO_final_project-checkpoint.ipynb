{
 "cells": [
  {
   "cell_type": "code",
   "execution_count": null,
   "metadata": {},
   "outputs": [],
   "source": [
    "# import smtplib\n",
    "\n",
    "# server = smtplib.SMTP_SSL(\"smtp.gmail.com\", 465)\n",
    "# server.login(\"menjadimahasiswa.noreply@gmail.com\",\"Menjadimhs\")\n",
    "# server.sendmail(\"menjadimahasiswa.noreply@gmail.com\",\"qoisoctava20@gmail.com\",\"\"\"\\\n",
    "# Subject: Hi there\n",
    "\n",
    "# This message is sent from Python.\"\"\")\n",
    "\n",
    "# server.quit()"
   ]
  },
  {
   "cell_type": "code",
   "execution_count": 13,
   "metadata": {},
   "outputs": [
    {
     "name": "stdout",
     "output_type": "stream",
     "text": [
      "\n",
      "\n",
      "==============================================\n",
      "    ---Email Penerima---\n",
      "            \n",
      "=======@=======\n",
      "Daftar email penerima terdaftar :\n",
      "qoisoctava20@gmail.com\n",
      "=======@=======\n",
      "\n",
      "        1 Menambahkan email penerima\n",
      "        2 Kembali\n",
      "        0 untuk reset daftar penerima\n",
      "        \n"
     ]
    },
    {
     "name": "stdin",
     "output_type": "stream",
     "text": [
      "Silakan pilih nomor : 2\n"
     ]
    },
    {
     "name": "stdout",
     "output_type": "stream",
     "text": [
      "---------Menutup--------\n"
     ]
    }
   ],
   "source": [
    "def addEmail():\n",
    "    receiver = open(\"receiver_list.txt\",\"a\")\n",
    "    email = input(\"Tambahkan email penerima : \")\n",
    "    receiver.write(email+\"\\n\")\n",
    "    receiver.close()\n",
    "    print(\"penerima {} berhasil ditambahkan!\".format(email))\n",
    "\n",
    "def menuAdd():\n",
    "    \n",
    "    print(\"\"\"\\n\n",
    "\n",
    "    ---Email Penerima---\n",
    "            \"\"\")\n",
    "    while True:\n",
    "        receiver = open(\"receiver_list.txt\",\"r+\")\n",
    "        emails = receiver.readlines()\n",
    "        emailsp = []    #Mengubah txt menjadi list => https://www.kite.com/python/answers/how-to-remove-newline-character-from-a-list-in-python#:~:text=Use%20str.,well%20as%20newline%20characters%20removed.\n",
    "        for element in emails:\n",
    "            emailsp.append(element.strip()) \n",
    "        print(\"=======@=======\")\n",
    "        print(\"Daftar email penerima terdaftar :\")\n",
    "        for i in emailsp:\n",
    "            print(i)\n",
    "        print(\"=======@=======\")\n",
    "        print(\"\"\"\n",
    "        1 Menambahkan email penerima\n",
    "        2 Kembali\n",
    "        0 untuk reset daftar penerima\n",
    "        \"\"\")\n",
    "        menu = int(input(\"Silakan pilih nomor :\"))\n",
    "\n",
    "        if menu == 1:\n",
    "            addEmail()\n",
    "        elif menu == 2:\n",
    "            print(\"---------Menutup--------\")\n",
    "            break\n",
    "        elif menu == 0:\n",
    "            open('receiver_list.txt', 'w').close() #reset file => https://stackoverflow.com/questions/2769061/how-to-erase-the-file-contents-of-text-file-in-python\n",
    "            print(\"Data penerima diset ulang\")\n",
    "        else:\n",
    "            print(\"\\nMenu tidak tersedia! silakan coba kembali \\n\")\n",
    "\n",
    "menuAdd()\n",
    "\n"
   ]
  },
  {
   "cell_type": "code",
   "execution_count": 4,
   "metadata": {},
   "outputs": [
    {
     "name": "stdout",
     "output_type": "stream",
     "text": [
      "Email Berhasil terkirim ke qoisoctava20@gmail.com\n"
     ]
    }
   ],
   "source": [
    "def kirim():\n",
    "    receiver = open(\"receiver_list.txt\",\"r+\")\n",
    "    emails = receiver.readlines()\n",
    "    emailsp = []    #Mengubah txt menjadi list => https://www.kite.com/python/answers/how-to-remove-newline-character-from-a-list-in-python#:~:text=Use%20str.,well%20as%20newline%20characters%20removed.\n",
    "    for element in emails:\n",
    "        emailsp.append(element.strip())\n",
    "    \n",
    "    for i in emailsp:\n",
    "        import smtplib, ssl #https://realpython.com/python-send-email/\n",
    "        from email.mime.text import MIMEText\n",
    "        from email.mime.multipart import MIMEMultipart\n",
    "\n",
    "        sender_email = \"menjadimahasiswa.noreply@gmail.com\"\n",
    "        receiver_email = i\n",
    "        password = \"Menjadimhs\"\n",
    "\n",
    "        message = MIMEMultipart(\"alternative\")\n",
    "        message[\"Subject\"] = \"Email untuk {}\".format(i)\n",
    "        message[\"From\"] = sender_email\n",
    "        message[\"To\"] = receiver_email\n",
    "\n",
    "\n",
    "        html = \"\"\"\\\n",
    "<html>\n",
    "  <body>\n",
    "  <hr>\n",
    "    <h1>Hi,</h1>\n",
    "    <h3>Ini adalah email yang dikirim dengan pytho berupa html</h3>\n",
    "       <img src=\"https://picsum.photos/200/300\" alt=\"Gambar\">\n",
    "    <p>gambar diatas merupakan gambar random</p>\n",
    "    </p>\n",
    "  </body>\n",
    "</html>\n",
    "\"\"\"\n",
    "\n",
    "# Turn these into plain/html MIMEText objects\n",
    "\n",
    "        mail = MIMEText(html, \"html\")\n",
    "\n",
    "# Add HTML/plain-text parts to MIMEMultipart message\n",
    "# The email client will try to render the last part first\n",
    "        message.attach(mail)\n",
    "\n",
    "\n",
    "# Create secure connection with server and send email\n",
    "        context = ssl.create_default_context()\n",
    "        with smtplib.SMTP_SSL(\"smtp.gmail.com\", 465, context=context) as server:\n",
    "            server.login(sender_email, password)\n",
    "            server.sendmail(\n",
    "                sender_email, receiver_email, message.as_string()\n",
    "            )\n",
    "        print(\"Email Berhasil terkirim ke {}\".format(i))\n",
    "kirim()"
   ]
  },
  {
   "cell_type": "code",
   "execution_count": 9,
   "metadata": {},
   "outputs": [
    {
     "name": "stdout",
     "output_type": "stream",
     "text": [
      "\n",
      "\n",
      "    ==============================================\n",
      "    Mengirim email ke penerima dalam receiver list\n",
      "    1. Membaca dan Menambah daftar penerima\n",
      "    2. Kirim emaik\n",
      "    0. Batal\n"
     ]
    },
    {
     "name": "stdin",
     "output_type": "stream",
     "text": [
      "Pilih nomor menu : 1\n"
     ]
    },
    {
     "name": "stdout",
     "output_type": "stream",
     "text": [
      "---Menambahkan Email Penerima---\n",
      "=======@=======\n",
      "Daftar email penerima terdaftar :\n",
      "qoisoctava20@gmail.com\n",
      "=======@=======\n",
      "\n",
      "        1 Menambahkan email penerima\n",
      "        2 Kembali\n",
      "        0 untuk reset daftar penerima\n",
      "        \n"
     ]
    },
    {
     "name": "stdin",
     "output_type": "stream",
     "text": [
      "Silakan pilih nomor : 2\n"
     ]
    },
    {
     "name": "stdout",
     "output_type": "stream",
     "text": [
      "---------Menutup--------\n",
      "\n",
      "\n",
      "    ==============================================\n",
      "    Mengirim email ke penerima dalam receiver list\n",
      "    1. Membaca dan Menambah daftar penerima\n",
      "    2. Kirim emaik\n",
      "    0. Batal\n"
     ]
    },
    {
     "name": "stdin",
     "output_type": "stream",
     "text": [
      "Pilih nomor menu : 0\n"
     ]
    },
    {
     "name": "stdout",
     "output_type": "stream",
     "text": [
      "\n",
      "                    --Menutup Email--\n",
      "    ==============================================\n"
     ]
    }
   ],
   "source": [
    "while True:\n",
    "    print(\"\"\"\\n\n",
    "    ==============================================\n",
    "    Mengirim email ke penerima dalam receiver list\n",
    "    1. Membaca dan Menambah daftar penerima\n",
    "    2. Kirim emaik\n",
    "    0. Batal\"\"\")\n",
    "    men = int(input(\"Pilih nomor menu :\"))\n",
    "    if men == 1:\n",
    "        menuAdd()\n",
    "    elif men == 2:\n",
    "        kirim()\n",
    "    elif men == 0:\n",
    "        print(\"\"\"\n",
    "                    --Menutup Email--\n",
    "    ==============================================\"\"\")\n",
    "        break\n",
    "    else:\n",
    "        print(\"Menu tidak tersedia, coba sekali lagi \\n\")"
   ]
  },
  {
   "cell_type": "code",
   "execution_count": null,
   "metadata": {},
   "outputs": [],
   "source": []
  }
 ],
 "metadata": {
  "kernelspec": {
   "display_name": "Python 3",
   "language": "python",
   "name": "python3"
  },
  "language_info": {
   "codemirror_mode": {
    "name": "ipython",
    "version": 3
   },
   "file_extension": ".py",
   "mimetype": "text/x-python",
   "name": "python",
   "nbconvert_exporter": "python",
   "pygments_lexer": "ipython3",
   "version": "3.9.1"
  }
 },
 "nbformat": 4,
 "nbformat_minor": 4
}
